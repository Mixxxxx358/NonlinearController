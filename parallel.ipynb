{
 "cells": [
  {
   "cell_type": "code",
   "execution_count": 1,
   "metadata": {},
   "outputs": [],
   "source": [
    "import deepSI\n",
    "import numpy as np\n",
    "from casadi import *\n",
    "from NonlinearController.model_utils import *\n",
    "import time\n",
    "import torch\n",
    "from functorch import jacrev, jacfwd, vmap"
   ]
  },
  {
   "cell_type": "code",
   "execution_count": 2,
   "metadata": {},
   "outputs": [],
   "source": [
    "def lambda_trap(x0,u0,nx,nu,ny,Jfx,Jfu,Jhx,stages):\n",
    "    # FUNCTION LAMBDA_SIMPSON\n",
    "    # Simpson rule integrator between 0 and 1 with chosen resolution (stages)\n",
    "    # used to get A,B matrices symbolically to be used at gridpoints\n",
    "    \n",
    "    A = np.zeros([nx,nx])\n",
    "    B = np.zeros([nx,nu])\n",
    "    C = np.zeros([ny,nx])\n",
    "    lambda0 = 0\n",
    "    dlam = 1/stages\n",
    "\n",
    "    x = lambda lam: lam*x0\n",
    "    u = lambda lam: lam*u0\n",
    "\n",
    "    for i in np.arange(stages):\n",
    "        A = A + dlam*1/2*(Jfx(x(lambda0), u(lambda0)) + Jfx(x(lambda0+dlam), u(lambda0+dlam)))\n",
    "        B = B + dlam*1/2*(Jfu(x(lambda0), u(lambda0)) + Jfu(x(lambda0+dlam), u(lambda0+dlam)))\n",
    "        C = C + dlam*1/2*(Jhx(x(lambda0), u(lambda0)) + Jhx(x(lambda0+dlam), u(lambda0+dlam)))\n",
    "        lambda0 = lambda0 + dlam\n",
    "            \n",
    "    return A,B,C\n",
    "\n",
    "def lambda_simpson(x,u,nx,nu,ny,Jfx,Jfu,Jhx,stages):\n",
    "    # FUNCTION LAMBDA_SIMPSON\n",
    "    # Simpson rule integrator between 0 and 1 with chosen resolution (stages)\n",
    "    # used to get A,B matrices symbolically to be used at gridpoints\n",
    "    \n",
    "    A = np.zeros([nx,nx])\n",
    "    B = np.zeros([nx,nu])\n",
    "    C = np.zeros([ny,nx])\n",
    "    lambda0 = 0\n",
    "    dlam = 1/stages\n",
    "\n",
    "    for i in np.arange(stages):\n",
    "        A = A + dlam*1/6*(Jfx(lambda0*x,lambda0*u) + 4*Jfx((lambda0+dlam/2)*x,(lambda0+dlam/2)*u) + Jfx((lambda0+dlam)*x,(lambda0+dlam)*u))\n",
    "        B = B + dlam*1/6*(Jfu(lambda0*x,lambda0*u) + 4*Jfu((lambda0+dlam/2)*x,(lambda0+dlam/2)*u) + Jfu((lambda0+dlam)*x,(lambda0+dlam)*u))\n",
    "        C = C + dlam*1/6*(Jhx(lambda0*x,lambda0*u) + 4*Jhx((lambda0+dlam/2)*x,(lambda0+dlam/2)*u) + Jhx((lambda0+dlam)*x,(lambda0+dlam)*u))\n",
    "        lambda0 = lambda0 + dlam\n",
    "            \n",
    "    return A,B,C\n"
   ]
  },
  {
   "cell_type": "code",
   "execution_count": 3,
   "metadata": {},
   "outputs": [],
   "source": [
    "model = deepSI.load_system(\"NonlinearController/trained_models/unbalanced/ObserverUnbalancedDisk_dt01_nab_4_SNR_30_e250\")\n",
    "n_stages = 20\n",
    "Nc = 10\n",
    "n_int_comp = 3\n",
    "threads = 4\n",
    "\n",
    "# declared sym variables\n",
    "nx = model.nx\n",
    "x = MX.sym(\"x\",nx,1)\n",
    "nu = model.nu if model.nu is not None else 1\n",
    "u = MX.sym(\"u\",nu,1)\n",
    "ny = model.ny if model.ny is not None else 1\n",
    "\n",
    "# convert torch nn to casadi function\n",
    "x_rhs = CasADi_Fn(model, x, u)\n",
    "f = Function('f', [x, u], [x_rhs])\n",
    "y_rhs = CasADi_Hn(model, x)\n",
    "h = Function('h', [x], [y_rhs])\n",
    "\n",
    "correction_f = f(np.zeros((nx,1)), 0)\n",
    "x_rhs_c = x_rhs - correction_f\n",
    "correction_h = h(np.zeros((nx,1)))\n",
    "y_rhs_c = y_rhs - correction_h\n",
    "\n",
    "Jfx = Function(\"Jfx\", [x, u], [jacobian(x_rhs_c,x)])\n",
    "Jfu = Function(\"Jfu\", [x, u], [jacobian(x_rhs_c,u)])\n",
    "Jhx = Function(\"Jhx\", [x, u], [jacobian(y_rhs_c,x)])\n",
    "\n",
    "x0 = MX.sym(\"x0\",nx,1)\n",
    "u0 = MX.sym(\"u0\",nu,1)\n",
    "\n",
    "[A_sym, B_sym, C_sym] = lambda_simpson(x0,u0,nx,nu,ny,Jfx,Jfu,Jhx,n_stages)\n",
    "lpv_A = Function(\"get_A\",[x0,u0],[A_sym])\n",
    "lpv_B = Function(\"get_B\",[x0,u0],[B_sym])\n",
    "lpv_C = Function(\"get_C\",[x0,u0],[C_sym])\n",
    "\n",
    "lpv_A_Nc = lpv_A.map(Nc, \"thread\", threads)\n",
    "lpv_B_Nc = lpv_B.map(Nc, \"thread\", threads)\n",
    "lpv_C_Nc = lpv_C.map(Nc, \"thread\", threads)"
   ]
  },
  {
   "cell_type": "code",
   "execution_count": 4,
   "metadata": {},
   "outputs": [],
   "source": [
    "Lambda = np.array([])\n",
    "lambda0 = 0\n",
    "dlam = 1/n_stages\n",
    "\n",
    "for i in np.arange(n_stages):\n",
    "    Lambda = np.hstack((Lambda, lambda0, lambda0 + dlam/2, lambda0 + dlam)) # Simpson\n",
    "    # Lambda = np.hstack((Lambda, lambda0, lambda0 + dlam)) # Trapezium\n",
    "    lambda0 = lambda0 + dlam"
   ]
  },
  {
   "cell_type": "code",
   "execution_count": 5,
   "metadata": {},
   "outputs": [],
   "source": [
    "lpv_A_lam = Jfx.map(Nc*n_stages*n_int_comp, \"thread\", threads)\n",
    "lpv_B_lam = Jfu.map(Nc*n_stages*n_int_comp, \"thread\", threads)\n",
    "lpv_C_lam = Jhx.map(Nc*n_stages*n_int_comp, \"thread\", threads)"
   ]
  },
  {
   "cell_type": "code",
   "execution_count": 6,
   "metadata": {},
   "outputs": [],
   "source": [
    "JacF = vmap(jacrev(model.fn, argnums=(0,1)))\n",
    "JacH = vmap(jacrev(model.hn))"
   ]
  },
  {
   "cell_type": "code",
   "execution_count": 7,
   "metadata": {},
   "outputs": [
    {
     "name": "stdout",
     "output_type": "stream",
     "text": [
      "CasADi Nc: 2.640998363494873\n",
      "CasADi stages: 2.5739903450012207\n",
      "functorch: 0.7835547924041748\n"
     ]
    }
   ],
   "source": [
    "n_iter = 100\n",
    "torch.set_num_threads(threads)\n",
    "X = np.random.rand(nx,Nc)\n",
    "U = np.random.rand(nu,Nc)\n",
    "\n",
    "Xlam = np.kron(X, Lambda)\n",
    "Ulam = np.kron(U, Lambda)\n",
    "\n",
    "start_time = time.time()\n",
    "\n",
    "for i in range(n_iter):\n",
    "    pA = lpv_A_Nc(X,U)\n",
    "    pB = lpv_B_Nc(X,U)\n",
    "    pC = lpv_C_Nc(X,U)\n",
    "\n",
    "end_time = time.time()\n",
    "\n",
    "print(\"CasADi Nc: \" + str(end_time - start_time))\n",
    "\n",
    "start_time = time.time()\n",
    "\n",
    "for i in range(n_iter):\n",
    "    tA = lpv_A_lam(Xlam,Ulam)\n",
    "    tB = lpv_B_lam(Xlam,Ulam)\n",
    "    tC = lpv_C_lam(Xlam,Ulam)\n",
    "\n",
    "end_time = time.time()\n",
    "\n",
    "print(\"CasADi stages: \" + str(end_time - start_time))\n",
    "\n",
    "batch_size = Nc*n_stages*n_int_comp\n",
    "\n",
    "start_time = time.time()\n",
    "\n",
    "for i in range(n_iter):\n",
    "    x = torch.reshape(torch.Tensor(Xlam[np.newaxis].T),(batch_size,1,2))\n",
    "    u = torch.reshape(torch.Tensor(Ulam[np.newaxis].T),(batch_size,1,1))\n",
    "    fA, fB = JacF(x,u)\n",
    "    fC = JacH(x)\n",
    "\n",
    "end_time = time.time()\n",
    "\n",
    "print(\"functorch: \" + str(end_time - start_time))"
   ]
  },
  {
   "cell_type": "code",
   "execution_count": null,
   "metadata": {},
   "outputs": [],
   "source": [
    "list_A = np.zeros([Nc*nx, nx])\n",
    "list_B = np.zeros([Nc*nx, nu])\n",
    "list_C = np.zeros([Nc*ny, nx])\n",
    "\n",
    "mult_A = np.stack((np.ones((nx,nx)), np.ones((nx,nx))*4, np.ones((nx,nx))))\n",
    "mult_B = np.stack((np.ones((nx,nu)), np.ones((nx,nu))*4, np.ones((nx,nu))))\n",
    "mult_C = np.vstack((np.ones((ny,nx)), np.ones((ny,nx))*4, np.ones((ny,nx))))\n",
    "\n",
    "for j in range(Nc):\n",
    "    A = np.zeros((nx,nx))\n",
    "    B = np.zeros([nx,nu])\n",
    "    C = np.zeros((ny,nx))\n",
    "\n",
    "    lambda0 = 0\n",
    "\n",
    "    for i in range(n_stages):\n",
    "        an = fA[n_int_comp*n_stages*j+(i)*n_int_comp:n_int_comp*n_stages*j+(i+1)*n_int_comp,0,:,0,:].detach().numpy()\n",
    "        A = A + dlam*1/6*np.sum(np.multiply(mult_A, an), axis=0)\n",
    "\n",
    "        bn = fB[n_int_comp*n_stages*j+(i)*n_int_comp:n_int_comp*n_stages*j+(i+1)*n_int_comp,0,:,0,:].detach().numpy()\n",
    "        B = B + dlam*1/6*np.sum(np.multiply(mult_B, bn), axis=0)\n",
    "\n",
    "        cn = fC[n_int_comp*n_stages*j+(i)*n_int_comp:n_int_comp*n_stages*j+(i+1)*n_int_comp,0,0,:].detach().numpy()\n",
    "        C = C + dlam*1/6*np.sum(np.multiply(mult_C, cn), axis=0)[np.newaxis]\n",
    "\n",
    "        lambda0 = lambda0 + dlam\n",
    "\n",
    "    list_A[nx*(j):nx*(j+1),:] = A.copy()\n",
    "    list_B[nx*(j):nx*(j+1),:] = B.copy()\n",
    "    list_C[ny*(j):ny*(j+1),:] = C.copy()"
   ]
  },
  {
   "cell_type": "code",
   "execution_count": null,
   "metadata": {},
   "outputs": [],
   "source": [
    "list_A_1 = np.zeros([Nc*nx, nx])\n",
    "list_B_1 = np.zeros([Nc*nx, nx])\n",
    "list_C_1 = np.zeros([Nc*ny, nx])\n",
    "for i in range(Nc):\n",
    "    list_A_1[(nx*i):(nx*i+nx),:] = pA[:,i*nx:(i+1)*nx]\n",
    "for i in range(Nc):\n",
    "    list_B_1[(nx*i):(nx*i+nx),:] = pB[:,i*nu:(i+1)*nu]\n",
    "for i in range(Nc):\n",
    "    list_C_1[(ny*i):(ny*i+ny),:] = pC[:,i*nx:(i+1)*nx]"
   ]
  },
  {
   "cell_type": "code",
   "execution_count": null,
   "metadata": {},
   "outputs": [],
   "source": [
    "np.allclose(list_A_1, list_A), np.allclose(list_B_1, list_B), np.allclose(list_C_1, list_C)"
   ]
  },
  {
   "cell_type": "code",
   "execution_count": null,
   "metadata": {},
   "outputs": [],
   "source": []
  }
 ],
 "metadata": {
  "kernelspec": {
   "display_name": "Python 3",
   "language": "python",
   "name": "python3"
  },
  "language_info": {
   "codemirror_mode": {
    "name": "ipython",
    "version": 3
   },
   "file_extension": ".py",
   "mimetype": "text/x-python",
   "name": "python",
   "nbconvert_exporter": "python",
   "pygments_lexer": "ipython3",
   "version": "3.9.0"
  },
  "orig_nbformat": 4
 },
 "nbformat": 4,
 "nbformat_minor": 2
}
