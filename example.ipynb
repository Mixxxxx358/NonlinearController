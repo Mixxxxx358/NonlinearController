{
 "cells": [
  {
   "cell_type": "code",
   "execution_count": 1,
   "metadata": {},
   "outputs": [],
   "source": [
    "import numpy as np\n",
    "from NonlinearController.mpc_utils import *\n",
    "from NonlinearController.controllers import *\n",
    "from NonlinearController.model_utils import *\n",
    "from NonlinearController.lpv_embedding import *\n",
    "import deepSI"
   ]
  },
  {
   "cell_type": "code",
   "execution_count": 2,
   "metadata": {},
   "outputs": [],
   "source": [
    "model = deepSI.load_system(\"NonlinearController/trained_models/unbalanced/ObserverUnbalancedDisk_dt01_nab_4_SNR_30_e250\")\n",
    "\n",
    "nx = model.nx\n",
    "nu = model.nu if model.nu is not None else 1\n",
    "ny = model.ny if model.ny is not None else 1"
   ]
  },
  {
   "cell_type": "code",
   "execution_count": 3,
   "metadata": {},
   "outputs": [],
   "source": [
    "sim_steps = 100\n",
    "#w = np.random.normal(size=(nu,sim_steps))\n",
    "w = np.ones((1,sim_steps))"
   ]
  },
  {
   "cell_type": "code",
   "execution_count": 4,
   "metadata": {},
   "outputs": [],
   "source": [
    "norm = model.norm\n",
    "u = norm_input(w, norm)"
   ]
  },
  {
   "cell_type": "code",
   "execution_count": 5,
   "metadata": {},
   "outputs": [],
   "source": [
    "# LPV embedding\n",
    "lpv_A, lpv_B, lpv_C, corr_f, corr_h = lpv_embedding(model)\n",
    "f0 = np.array(corr_f.elements())[np.newaxis].T\n",
    "h0 = np.array(corr_h.elements()) #make sure this has the correct dimensions for ny>1\n",
    "\n",
    "A = np.zeros((nx,nx))\n",
    "B = np.zeros((nx,nu))\n",
    "C = np.zeros((ny,nx))\n",
    "\n",
    "x1 = np.zeros((nx,1))\n",
    "x0 = np.zeros((nx,1))\n",
    "u1 = np.zeros((nu,1))\n",
    "u0 = np.zeros((nu,1))\n",
    "\n",
    "log_y = np.zeros((ny,sim_steps))\n",
    "\n",
    "for i in range(sim_steps):\n",
    "    u0[:,0] = u[:,i]\n",
    "\n",
    "    A[:,:] = lpv_A(x0,u0)\n",
    "    B[:,:] = lpv_B(x0,u0)\n",
    "    C[:,:] = lpv_C(x0,u0)\n",
    "\n",
    "    x0 = A @ x0 + B @ u0 + f0\n",
    "    \n",
    "    log_y[:,i] = C @ x0[:,0] + h0"
   ]
  },
  {
   "cell_type": "code",
   "execution_count": 6,
   "metadata": {},
   "outputs": [
    {
     "data": {
      "text/plain": [
       "[<matplotlib.lines.Line2D at 0x2c6f59aab20>]"
      ]
     },
     "execution_count": 6,
     "metadata": {},
     "output_type": "execute_result"
    },
    {
     "data": {
      "image/png": "[encoded data removed]",
      "text/plain": [
       "<Figure size 432x288 with 1 Axes>"
      ]
     },
     "metadata": {
      "needs_background": "light"
     },
     "output_type": "display_data"
    }
   ],
   "source": [
    "log_z = denorm_output(log_y, norm)\n",
    "\n",
    "plt.plot(log_z[0,:])"
   ]
  },
  {
   "cell_type": "code",
   "execution_count": null,
   "metadata": {},
   "outputs": [],
   "source": [
    "# Velocity LPV embedding\n",
    "lpv_A, lpv_B, lpv_C = velocity_lpv_embedding(model)\n",
    "\n",
    "A = np.zeros((nx,nx))\n",
    "B = np.zeros((nx,nu))\n",
    "C = np.zeros((ny,nx))\n",
    "\n",
    "dx0 = np.zeros((nx,1))\n",
    "u1 = np.zeros((nu,1))\n",
    "u0 = np.zeros((nu,1))\n",
    "du0 = np.zeros((nu,1))\n",
    "y0 = np.zeros((ny,1))\n",
    "y_1 = np.zeros((ny,1))\n",
    "dy0 = np.zeros((ny,1))\n",
    "\n",
    "log_y = np.zeros((ny,sim_steps))\n",
    "\n",
    "for i in range(sim_steps):\n",
    "\n",
    "    A[:,:] = lpv_A(x0,dx0,u0,du0)\n",
    "    B[:,:] = lpv_B(x0,dx0,u0,du0)\n",
    "    C[:,:] = lpv_C(x0,dx0,u0,du0)\n",
    "\n",
    "    dx0 = A @ dx0 + B @ du0\n",
    "\n",
    "    dy0 = C @ dx0\n",
    "\n",
    "    y0 = dy0 + y_1\n",
    "    y_1 = log_y[:,i]\n",
    "\n",
    "    u1[:,0] = u[:,i]\n",
    "    du = u1 - u0\n",
    "    u0 = u1\n",
    "\n",
    "    log_y[:,i] = y0[:,0]"
   ]
  },
  {
   "cell_type": "code",
   "execution_count": null,
   "metadata": {},
   "outputs": [],
   "source": [
    "dx0"
   ]
  },
  {
   "cell_type": "code",
   "execution_count": null,
   "metadata": {},
   "outputs": [],
   "source": [
    "vel_log_z = denorm_output(log_y, norm)\n",
    "\n",
    "plt.plot(vel_log_z[0,:])"
   ]
  },
  {
   "cell_type": "code",
   "execution_count": null,
   "metadata": {},
   "outputs": [],
   "source": [
    "plt.plot(log_z[0,:] - vel_log_z[0,:])"
   ]
  },
  {
   "cell_type": "code",
   "execution_count": null,
   "metadata": {},
   "outputs": [],
   "source": []
  }
 ],
 "metadata": {
  "kernelspec": {
   "display_name": "Python 3",
   "language": "python",
   "name": "python3"
  },
  "language_info": {
   "codemirror_mode": {
    "name": "ipython",
    "version": 3
   },
   "file_extension": ".py",
   "mimetype": "text/x-python",
   "name": "python",
   "nbconvert_exporter": "python",
   "pygments_lexer": "ipython3",
   "version": "3.9.7"
  },
  "orig_nbformat": 4,
  "vscode": {
   "interpreter": {
    "hash": "15fab87b5ba22ae8e62c81d863360f60b5dcc879f62e9499f7c9922220cd72f8"
   }
  }
 },
 "nbformat": 4,
 "nbformat_minor": 2
}
