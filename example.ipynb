{
 "cells": [
  {
   "cell_type": "code",
   "execution_count": 9,
   "metadata": {},
   "outputs": [],
   "source": [
    "import numpy as np\n",
    "from NonlinearController.mpc_utils import *\n",
    "# from NonlinearController.controllers import *\n",
    "from NonlinearController.model_utils import *\n",
    "from NonlinearController.lpv_embedding import *\n",
    "import deepSI"
   ]
  },
  {
   "cell_type": "code",
   "execution_count": null,
   "metadata": {},
   "outputs": [],
   "source": [
    "model = deepSI.load_system(\"NonlinearController/trained_models/unbalanced/ObserverUnbalancedDisk_dt01_nab_4_SNR_30_e250\")\n",
    "\n",
    "get_A, get_B, get_C = velocity_lpv_embedding(model)\n",
    "\n",
    "nx = model.nx\n",
    "n_states = nx\n",
    "x = MX.sym(\"x\",nx,1)\n",
    "nu = model.nu if model.nu is not None else 1\n",
    "n_controls = nu\n",
    "u = MX.sym(\"u\",nu,1)\n",
    "ny = model.ny if model.ny is not None else 1\n",
    "\n",
    "A = np.zeros((nx,nx))\n",
    "B = np.zeros((nx,nu))\n",
    "C = np.zeros((ny,nx))\n",
    "\n",
    "x0 = np.zeros((nx,1))\n",
    "dx = np.zeros((nx,1))\n",
    "u0 = np.zeros((nu,1))\n",
    "du = np.zeros((nu,1))\n",
    "\n",
    "steps = 100\n",
    "log_x = np.zeros((nx,steps))\n",
    "\n",
    "for i in range(steps):\n",
    "\n",
    "    A[:,:] = get_A(x0,dx,u0,du)\n",
    "    B[:,:] = get_B(x0,dx,u0,du)\n",
    "    C[:,:] = get_C(x0,dx,u0,du)\n",
    "\n",
    "    x1 = A @ x0 + B @ u0\n",
    "\n",
    "    dx = x1-x0\n",
    "    x0 = x1\n",
    "\n",
    "    u1 = np.random.normal(size=(nu,1))\n",
    "    du = u1 - u0\n",
    "    u0 = u1\n",
    "\n",
    "    log_x[:,i] = x1[:,0]\n",
    "\n",
    "plt.plot(log_x[0,:])\n",
    "plt.plot(log_x[1,:])\n",
    "plt.show()"
   ]
  }
 ],
 "metadata": {
  "kernelspec": {
   "display_name": "Python 3",
   "language": "python",
   "name": "python3"
  },
  "language_info": {
   "codemirror_mode": {
    "name": "ipython",
    "version": 3
   },
   "file_extension": ".py",
   "mimetype": "text/x-python",
   "name": "python",
   "nbconvert_exporter": "python",
   "pygments_lexer": "ipython3",
   "version": "3.9.7"
  },
  "orig_nbformat": 4,
  "vscode": {
   "interpreter": {
    "hash": "15fab87b5ba22ae8e62c81d863360f60b5dcc879f62e9499f7c9922220cd72f8"
   }
  }
 },
 "nbformat": 4,
 "nbformat_minor": 2
}
