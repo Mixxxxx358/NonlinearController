{
 "cells": [
  {
   "cell_type": "code",
   "execution_count": 1,
   "metadata": {},
   "outputs": [],
   "source": [
    "import numpy as np\n",
    "from NonlinearController.mpc_utils import *\n",
    "from NonlinearController.controllers import *\n",
    "from NonlinearController.model_utils import *\n",
    "from NonlinearController.lpv_embedding import *\n",
    "from NonlinearController.systems import UnbalancedDisc\n",
    "import deepSI\n",
    "import qpsolvers as qp"
   ]
  },
  {
   "cell_type": "code",
   "execution_count": 2,
   "metadata": {},
   "outputs": [],
   "source": [
    "##################  System  #######################\n",
    "system = UnbalancedDisc(dt=0.1)\n",
    "system.reset_state()\n",
    "\n",
    "##################  MPC variable specification  #######################\n",
    "model = deepSI.load_system(\"NonlinearController/trained_models/unbalanced/ObserverUnbalancedDisk_dt01_nab_4_SNR_30_e250\")\n",
    "\n",
    "Nc=5; nr_iterations = 4; nr_sim_steps = 20\n",
    "\n",
    "reference = 0"
   ]
  },
  {
   "cell_type": "code",
   "execution_count": 3,
   "metadata": {},
   "outputs": [],
   "source": [
    "class velocity_lpv_embedder():\n",
    "    def __init__(self, ss_enc, Nc, n_stages=20):\n",
    "        self.nx = ss_enc.nx\n",
    "        self.nu = ss_enc.nu if ss_enc.nu is not None else 1\n",
    "        self.ny = ss_enc.ny if ss_enc.ny is not None else 1\n",
    "\n",
    "        self.Nc = Nc\n",
    "\n",
    "        self.lpv_A, self.lpv_B, self.lpv_C = velocity_lpv_embedding(ss_enc,n_stages=n_stages)\n",
    "        self.lpv_A_Nc = self.lpv_A.map(self.Nc, \"thread\", 32)\n",
    "        self.lpv_B_Nc = self.lpv_B.map(self.Nc, \"thread\", 32)\n",
    "        self.lpv_C_Nc = self.lpv_C.map(self.Nc, \"thread\", 32)\n",
    "\n",
    "    def __call__(self, X, U):\n",
    "        X_1 = np.hstack(np.split(X[:-nx],Nc))\n",
    "        dX0 = np.hstack(np.split(X[nx:] - X[:-nx],Nc))\n",
    "        U_1 = np.hstack(np.split(U[:-nu],Nc))\n",
    "        dU0 = np.hstack(np.split(U[nu:] - U[:-nu],Nc))\n",
    "        \n",
    "        pA = self.lpv_A_Nc(X_1, dX0, U_1, dU0)\n",
    "        pB = self.lpv_B_Nc(X_1, dX0, U_1, dU0)\n",
    "        pC = self.lpv_C_Nc(X_1, dX0, U_1, dU0)\n",
    "\n",
    "        return self.reshapeEmbedding(pA, pB, pC)\n",
    "\n",
    "    def reshapeEmbedding(self, pA,pB,pC):\n",
    "        list_A = np.zeros([self.Nc*self.nx, self.nx])\n",
    "        list_B = np.zeros([self.Nc*self.nx, self.nu])\n",
    "        list_C = np.zeros([self.Nc*self.ny, self.nx])\n",
    "\n",
    "        for i in range(self.Nc):\n",
    "            list_A[(self.nx*i):(self.nx*i+self.nx),:] = pA[:,i*self.nx:(i+1)*self.nx]\n",
    "\n",
    "        for i in range(Nc):\n",
    "            list_B[(self.nx*i):(self.nx*i+self.nx),:] = pB[:,i*self.nu:(i+1)*self.nu]\n",
    "\n",
    "        for i in range(Nc):\n",
    "            list_C[(self.ny*i):(self.ny*i+self.ny),:] = pC[:,i*self.nx:(i+1)*self.nx]\n",
    "\n",
    "        return list_A, list_B, list_C"
   ]
  },
  {
   "cell_type": "code",
   "execution_count": 4,
   "metadata": {},
   "outputs": [],
   "source": [
    "##################  Utility functions  #######################\n",
    "\n",
    "# def reshapeStacked(X, Nc):\n",
    "#     return np.hstack(np.split(X,Nc))\n",
    "\n",
    "def differenceVector(X_1, nx):\n",
    "    return X_1[nx:] - X_1[:-nx]\n",
    "\n",
    "def extendABC(list_A, list_B, list_C, nx, ny):\n",
    "    nz = nx+ny\n",
    "    list_ext_A = np.zeros((nz*Nc,nz))\n",
    "    list_ext_B = np.zeros((nz*Nc,nu))\n",
    "\n",
    "    for i in range(Nc):\n",
    "        list_ext_A[(i*nz):(i*nz+ny),:ny] = np.eye(ny)\n",
    "        list_ext_A[(i*nz):(i*nz+ny),ny:nz] = list_C[(ny*i):(ny*i+ny),:]\n",
    "        list_ext_A[(i*nz+ny):(i*nz+nz),ny:nz] = list_A[(nx*i):(nx*i+nx),:]\n",
    "\n",
    "    for i in range(Nc):\n",
    "        list_ext_B[(i*nz+ny):(i*nz+nz),:] = list_B[(nx*i):(nx*i+nx),:]\n",
    "\n",
    "    list_ext_C = np.zeros((ny*Nc,nz))\n",
    "\n",
    "    for i in range(Nc):\n",
    "        list_ext_C[(i*ny):(i*ny+ny),:ny] = np.eye(ny)\n",
    "        list_ext_C[(i*ny):(i*ny+ny),ny:nz] = list_C[(ny*i):(ny*i+ny),:]\n",
    "    \n",
    "    return list_ext_A, list_ext_B, list_ext_C\n",
    "\n",
    "def extendState(Y_1, dX0, nx, ny):\n",
    "    nz = nx+ny\n",
    "    Z0 = np.zeros((Nc*nz,1))\n",
    "\n",
    "    for i in range(Nc):\n",
    "        Z0[(nz*i):(nz*i+ny),:] = Y_1[ny*i:(ny*i+ny),:]\n",
    "        Z0[(nz*i+ny):(nz*i+nz),:] = dX0[nx*i:(nx*i+nx),:]\n",
    "\n",
    "    return Z0\n",
    "\n",
    "def decodeState(Z0, nx, ny):\n",
    "    nz = nx+ny\n",
    "    Y_1 = np.zeros((Nc*ny,1))\n",
    "    dX0 = np.zeros((Nc*nx,1))\n",
    "\n",
    "    for i in range(Nc):\n",
    "        Y_1[ny*i:(ny*i+ny),:] = Z0[(nz*i):(nz*i+ny),:]\n",
    "        dX0[nx*i:(nx*i+nx),:] = Z0[(nz*i+ny):(nz*i+nz),:]\n",
    "\n",
    "    return Y_1, dX0\n"
   ]
  },
  {
   "cell_type": "code",
   "execution_count": 7,
   "metadata": {},
   "outputs": [],
   "source": [
    "##################  Offline Computation  #######################\n",
    "nx = model.nx\n",
    "nu = model.nu if model.nu is not None else 1\n",
    "ny = model.ny if model.ny is not None else 1\n",
    "nz = nx+ny\n",
    "\n",
    "norm = model.norm\n",
    "\n",
    "R = np.eye(nu); Q = np.eye(nz)\n",
    "Psi = get_Psi(Nc, R)\n",
    "Omega = get_Omega(Nc, Q)\n",
    "\n",
    "embedder = velocity_lpv_embedder(model, Nc)\n",
    "\n",
    "\n",
    "r = (np.tile(np.hstack((norm_output(reference, norm), np.zeros((nx,)))), Nc)[np.newaxis]).T\n",
    "#r = np.zeros((Nc*nz,0))\n",
    "#r_norm = norm_output\n",
    "\n",
    "# initial predicted states, input, and output\n",
    "X_1 = np.arange((Nc+1)*nx)[np.newaxis].T*0.1\n",
    "U_1 = np.arange((Nc+1)*nu)[np.newaxis].T*0.1\n",
    "Y_1 = np.arange((Nc)*ny)[np.newaxis].T*0.1\n",
    "\n",
    "##################  Logging  #######################\n",
    "log_q = np.zeros((ny,nr_sim_steps))"
   ]
  },
  {
   "cell_type": "code",
   "execution_count": 8,
   "metadata": {},
   "outputs": [
    {
     "name": "stderr",
     "output_type": "stream",
     "text": [
      "c:\\Users\\20182739\\AppData\\Local\\Programs\\Python\\Python39\\lib\\site-packages\\qpsolvers\\solvers\\typing.py:48: UserWarning: Converted P to scipy.sparse.csc.csc_matrix\n",
      "For best performance, build P as a scipy.sparse.csc_matrix rather than as a numpy.ndarray\n",
      "  warn(\n"
     ]
    }
   ],
   "source": [
    "##################  Online Computation  #######################\n",
    "\n",
    "#++++++++++++++++++ start simulation step +++++++++++++++++++++++\n",
    "for k in range(nr_sim_steps):\n",
    "    #++++++++++++++++++ start iteration +++++++++++++++++++++++\n",
    "    for iterations in range(nr_iterations):\n",
    "        # determine predicted velocity states and output\n",
    "        dX0 = differenceVector(X_1, nx)\n",
    "        dU0 = differenceVector(U_1, nu)\n",
    "        # determine extended state from predicted output and velocity states\n",
    "        Z0 = extendState(Y_1, dX0, nx, ny)\n",
    "\n",
    "        # determine lpv state space dependencies\n",
    "        list_A, list_B, list_C = embedder(X_1, U_1)\n",
    "        list_ext_A, list_ext_B, list_ext_C = extendABC(list_A, list_B, list_C, nx, ny)\n",
    "\n",
    "        # describe optimization problem\n",
    "        Phi = get_Phi(list_ext_A, Nc, nz)\n",
    "        Gamma = get_Gamma(list_ext_A, list_ext_B, Nc, nz, nu)\n",
    "        G = Psi + Gamma.T @ Omega @ Gamma\n",
    "        F = 2*Gamma.T @ Omega.T @ (Phi @ Z0[:nz] - r) # reference should be normalized and shaped into correct form\n",
    "        # solve for optimal U over prediction horizon\n",
    "        dU0[:,0] = qp.solve_qp(G,F,solver=\"osqp\")\n",
    "\n",
    "        # predict states\n",
    "        Z1 = Phi @ Z0[:nz] + Gamma @ dU0\n",
    "        # split extended state up into ouputs and velocity states\n",
    "        Y0, dX1 = decodeState(Z1, nx, ny)\n",
    "        # overwrite previous predicted states and output with new predicted states and output\n",
    "        Y_1[ny:,0] = Y0[:-ny,0]; dX0[nx:,0] = dX1[:-nx,0]\n",
    "        # determine new X_1 states from known x0 and predicted dX0\n",
    "        for i in range(2,Nc+1):\n",
    "            X_1[(i*nx):(i*nx+nx),:] = dX0[((i-1)*nx):((i-1)*nx+nx),:] + X_1[((i-1)*nx):((i-1)*nx+nx),:]\n",
    "\n",
    "        for i in range(2,Nc+1):\n",
    "            U_1[(i*nu):(i*nu+nu),:] = dU0[((i-1)*nu):((i-1)*nu+nu),:] + U_1[((i-1)*nu):((i-1)*nu+nu),:]\n",
    "    #++++++++++++++++++ end iteration +++++++++++++++++++++++\n",
    "    \n",
    "    # determine input from optimal velocity input\n",
    "    u0 = dU0[:nu,0] + U_1[:nu,0]\n",
    "    # denormalize input\n",
    "    w0 = denorm_input(u0, norm)\n",
    "    # measure output then apply input\n",
    "    q0 = system.measure_act(w0[0]) # maybe change this to act measure / deal with dimension of input\n",
    "    log_q[:,k] = q0\n",
    "    # normalize output\n",
    "    y0 = norm_output(q0, norm)\n",
    "\n",
    "    # shift predicted states, input, and output\n",
    "    \n",
    "#++++++++++++++++++ end simulation step +++++++++++++++++++++++"
   ]
  },
  {
   "cell_type": "code",
   "execution_count": 9,
   "metadata": {},
   "outputs": [
    {
     "data": {
      "text/plain": [
       "[<matplotlib.lines.Line2D at 0x2ccca39c7c0>]"
      ]
     },
     "execution_count": 9,
     "metadata": {},
     "output_type": "execute_result"
    },
    {
     "data": {
      "image/png": "[encoded data removed]",
      "text/plain": [
       "<Figure size 432x288 with 1 Axes>"
      ]
     },
     "metadata": {
      "needs_background": "light"
     },
     "output_type": "display_data"
    }
   ],
   "source": [
    "plt.plot(log_q[0,:])"
   ]
  },
  {
   "cell_type": "code",
   "execution_count": null,
   "metadata": {},
   "outputs": [],
   "source": []
  }
 ],
 "metadata": {
  "kernelspec": {
   "display_name": "Python 3",
   "language": "python",
   "name": "python3"
  },
  "language_info": {
   "codemirror_mode": {
    "name": "ipython",
    "version": 3
   },
   "file_extension": ".py",
   "mimetype": "text/x-python",
   "name": "python",
   "nbconvert_exporter": "python",
   "pygments_lexer": "ipython3",
   "version": "3.9.0"
  },
  "orig_nbformat": 4,
  "vscode": {
   "interpreter": {
    "hash": "4adf2e6253b261bd4dae3284651a7270092766d2a4e11b51cb3c91db9fd89146"
   }
  }
 },
 "nbformat": 4,
 "nbformat_minor": 2
}
