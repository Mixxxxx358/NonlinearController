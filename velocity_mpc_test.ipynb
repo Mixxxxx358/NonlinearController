{
 "cells": [
  {
   "cell_type": "code",
   "execution_count": 1,
   "metadata": {},
   "outputs": [],
   "source": [
    "import numpy as np\n",
    "from NonlinearController.mpc_utils import *\n",
    "from NonlinearController.controllers import *\n",
    "from NonlinearController.model_utils import *\n",
    "from NonlinearController.lpv_embedding import *\n",
    "from NonlinearController.systems import UnbalancedDisc\n",
    "import deepSI"
   ]
  },
  {
   "cell_type": "code",
   "execution_count": 2,
   "metadata": {},
   "outputs": [],
   "source": [
    "model = deepSI.load_system(\"NonlinearController/trained_models/unbalanced/ObserverUnbalancedDisk_dt01_nab_4_SNR_30_e250\")\n",
    "\n",
    "nx = model.nx\n",
    "nu = model.nu if model.nu is not None else 1\n",
    "ny = model.ny if model.ny is not None else 1"
   ]
  },
  {
   "cell_type": "code",
   "execution_count": 3,
   "metadata": {},
   "outputs": [],
   "source": [
    "class velocity_lpv_embedder():\n",
    "    def __init__(self, ss_enc, Nc, n_stages=20):\n",
    "        self.nx = ss_enc.nx\n",
    "        self.nu = ss_enc.nu if ss_enc.nu is not None else 1\n",
    "        self.ny = ss_enc.ny if ss_enc.ny is not None else 1\n",
    "\n",
    "        self.Nc = Nc\n",
    "\n",
    "        self.lpv_A, self.lpv_B, self.lpv_C = velocity_lpv_embedding(ss_enc,n_stages=n_stages)\n",
    "        self.lpv_A_Nc = self.lpv_A.map(self.Nc, \"thread\", 32)\n",
    "        self.lpv_B_Nc = self.lpv_B.map(self.Nc, \"thread\", 32)\n",
    "        self.lpv_C_Nc = self.lpv_C.map(self.Nc, \"thread\", 32)\n",
    "\n",
    "    def __call__(self, x_1, dX, u_1, dU):\n",
    "        list_A = np.zeros([self.Nc*self.nx, self.nx])\n",
    "        list_B = np.zeros([self.Nc*self.nx, self.nu])\n",
    "        list_C = np.zeros([self.Nc*self.ny, self.nx])\n",
    "\n",
    "        return self.lpv_A_Nc(x_1, dX, u_1, dU)\n",
    "        # return list_A, list_B, list_C"
   ]
  },
  {
   "cell_type": "code",
   "execution_count": 4,
   "metadata": {},
   "outputs": [],
   "source": [
    "Nc=5\n",
    "\n",
    "x_1 = np.array([[1,2]]).T\n",
    "# dX = np.zeros((nx*Nc,1))\n",
    "dX = np.arange(Nc*nx)[np.newaxis].T*0.01\n",
    "u_1 = np.array([[3]])\n",
    "# dU = np.zeros((nu*Nc,1))\n",
    "dU = np.arange(Nc*nu)[np.newaxis].T*0.01"
   ]
  },
  {
   "cell_type": "code",
   "execution_count": 144,
   "metadata": {},
   "outputs": [],
   "source": [
    "X_1 = np.zeros((nx,Nc))\n",
    "X_1[:,0] = x_1[:,0]\n",
    "\n",
    "for i in range(1,Nc):\n",
    "    X_1[:,i] = dX[nx*(i-1):nx*i,0] + X_1[:,i-1]\n",
    "\n",
    "U_1 = np.zeros((nu,Nc))\n",
    "U_1[:,0] = u_1[:,0]\n",
    "\n",
    "for i in range(1,Nc):\n",
    "    U_1[:,i] = dU[nu*(i-1):nu*i,0] + U_1[:,i-1]"
   ]
  },
  {
   "cell_type": "code",
   "execution_count": 145,
   "metadata": {},
   "outputs": [
    {
     "data": {
      "text/plain": [
       "(array([[1.  , 1.  , 1.02, 1.06, 1.12],\n",
       "        [2.  , 2.01, 2.04, 2.09, 2.16]]),\n",
       " array([[0.  , 0.02, 0.04, 0.06, 0.08],\n",
       "        [0.01, 0.03, 0.05, 0.07, 0.09]]),\n",
       " array([[3.  , 3.  , 3.01, 3.03, 3.06]]),\n",
       " array([[0.  , 0.01, 0.02, 0.03, 0.04]]))"
      ]
     },
     "execution_count": 145,
     "metadata": {},
     "output_type": "execute_result"
    }
   ],
   "source": [
    "X_1, np.hstack(np.split(dX,Nc)), U_1, np.hstack(np.split(dU,Nc))"
   ]
  },
  {
   "cell_type": "code",
   "execution_count": 156,
   "metadata": {},
   "outputs": [],
   "source": [
    "embedder = velocity_lpv_embedder(model, Nc)\n",
    "pA = embedder(X_1, np.hstack(np.split(dX,Nc)), U_1, np.hstack(np.split(dU,Nc)))"
   ]
  },
  {
   "cell_type": "code",
   "execution_count": 157,
   "metadata": {},
   "outputs": [],
   "source": [
    "list_A = np.zeros([Nc*nx, nx])\n",
    "for i in range(Nc):\n",
    "    list_A[(nx*i):(nx*i+nx),:] = pA[:,i*nx:(i+1)*nx]"
   ]
  },
  {
   "cell_type": "code",
   "execution_count": 159,
   "metadata": {},
   "outputs": [
    {
     "data": {
      "text/plain": [
       "array([[ 0.3544466 , -0.15609774],\n",
       "       [ 0.77745493,  0.56275285],\n",
       "       [ 0.34787733, -0.15842607],\n",
       "       [ 0.76551225,  0.55489975],\n",
       "       [ 0.3304803 , -0.16421011],\n",
       "       [ 0.73769767,  0.53608424],\n",
       "       [ 0.3031836 , -0.17325688],\n",
       "       [ 0.69587011,  0.50732681],\n",
       "       [ 0.26760427, -0.1851206 ],\n",
       "       [ 0.64293906,  0.4702993 ]])"
      ]
     },
     "execution_count": 159,
     "metadata": {},
     "output_type": "execute_result"
    }
   ],
   "source": [
    "list_A"
   ]
  },
  {
   "cell_type": "code",
   "execution_count": null,
   "metadata": {},
   "outputs": [],
   "source": []
  }
 ],
 "metadata": {
  "kernelspec": {
   "display_name": "Python 3",
   "language": "python",
   "name": "python3"
  },
  "language_info": {
   "codemirror_mode": {
    "name": "ipython",
    "version": 3
   },
   "file_extension": ".py",
   "mimetype": "text/x-python",
   "name": "python",
   "nbconvert_exporter": "python",
   "pygments_lexer": "ipython3",
   "version": "3.9.0 (tags/v3.9.0:9cf6752, Oct  5 2020, 15:34:40) [MSC v.1927 64 bit (AMD64)]"
  },
  "orig_nbformat": 4,
  "vscode": {
   "interpreter": {
    "hash": "4adf2e6253b261bd4dae3284651a7270092766d2a4e11b51cb3c91db9fd89146"
   }
  }
 },
 "nbformat": 4,
 "nbformat_minor": 2
}
