{
 "cells": [
  {
   "cell_type": "code",
   "execution_count": 1,
   "metadata": {},
   "outputs": [],
   "source": [
    "import numpy as np\n",
    "from NonlinearController.mpc_utils import *\n",
    "from NonlinearController.controllers import *\n",
    "from NonlinearController.model_utils import *\n",
    "from NonlinearController.lpv_embedding import *\n",
    "from NonlinearController.systems import UnbalancedDisc\n",
    "import deepSI"
   ]
  },
  {
   "cell_type": "code",
   "execution_count": 2,
   "metadata": {},
   "outputs": [],
   "source": [
    "model = deepSI.load_system(\"NonlinearController/trained_models/unbalanced/ObserverUnbalancedDisk_dt01_nab_4_SNR_30_e250\")\n",
    "\n",
    "nx = model.nx\n",
    "nu = model.nu if model.nu is not None else 1\n",
    "ny = model.ny if model.ny is not None else 1"
   ]
  },
  {
   "cell_type": "code",
   "execution_count": 3,
   "metadata": {},
   "outputs": [],
   "source": [
    "sim_steps = 800\n",
    "#w = np.random.normal(size=(nu,sim_steps))*2\n",
    "w = np.hstack((np.zeros((nu,sim_steps//2)),np.ones((nu,sim_steps//2 + sim_steps%2))))"
   ]
  },
  {
   "cell_type": "code",
   "execution_count": 4,
   "metadata": {},
   "outputs": [],
   "source": [
    "system = UnbalancedDisc(dt=0.1)\n",
    "system.reset_state()\n",
    "\n",
    "log_z = np.zeros((ny,sim_steps))\n",
    "\n",
    "for i in range(sim_steps):\n",
    "    z = system.measure_act(w[0,i])\n",
    "    log_z[:,i] = z"
   ]
  },
  {
   "cell_type": "code",
   "execution_count": 5,
   "metadata": {},
   "outputs": [
    {
     "data": {
      "text/plain": [
       "[<matplotlib.lines.Line2D at 0x195cae2fc40>]"
      ]
     },
     "execution_count": 5,
     "metadata": {},
     "output_type": "execute_result"
    },
    {
     "data": {
      "image/png": "[encoded data removed]",
      "text/plain": [
       "<Figure size 432x288 with 1 Axes>"
      ]
     },
     "metadata": {
      "needs_background": "light"
     },
     "output_type": "display_data"
    }
   ],
   "source": [
    "plt.plot(log_z[0,:])"
   ]
  },
  {
   "cell_type": "code",
   "execution_count": 6,
   "metadata": {},
   "outputs": [],
   "source": [
    "norm = model.norm\n",
    "u = norm_input(w, norm)"
   ]
  },
  {
   "cell_type": "code",
   "execution_count": 7,
   "metadata": {},
   "outputs": [],
   "source": [
    "# LPV embedding\n",
    "lpv_A, lpv_B, lpv_C, corr_f, corr_h = lpv_embedding(model)\n",
    "f0 = np.array(corr_f.elements())[np.newaxis].T\n",
    "h0 = np.array(corr_h.elements()) #make sure this has the correct dimensions for ny>1\n",
    "\n",
    "A = np.zeros((nx,nx))\n",
    "B = np.zeros((nx,nu))\n",
    "C = np.zeros((ny,nx))\n",
    "\n",
    "x1 = np.zeros((nx,1))\n",
    "x0 = np.zeros((nx,1))\n",
    "u1 = np.zeros((nu,1))\n",
    "u0 = np.zeros((nu,1))\n",
    "\n",
    "log_y = np.zeros((ny,sim_steps))\n",
    "\n",
    "for i in range(sim_steps):\n",
    "    u0[:,0] = u[:,i]\n",
    "\n",
    "    A[:,:] = lpv_A(x0,u0)\n",
    "    B[:,:] = lpv_B(x0,u0)\n",
    "    C[:,:] = lpv_C(x0,u0)\n",
    "\n",
    "    x0 = A @ x0 + B @ u0 + f0\n",
    "    \n",
    "    log_y[:,i] = C @ x0[:,0] + h0"
   ]
  },
  {
   "cell_type": "code",
   "execution_count": 8,
   "metadata": {},
   "outputs": [
    {
     "data": {
      "text/plain": [
       "[<matplotlib.lines.Line2D at 0x195caf8daf0>]"
      ]
     },
     "execution_count": 8,
     "metadata": {},
     "output_type": "execute_result"
    },
    {
     "data": {
      "image/png": "[encoded data removed]",
      "text/plain": [
       "<Figure size 432x288 with 2 Axes>"
      ]
     },
     "metadata": {
      "needs_background": "light"
     },
     "output_type": "display_data"
    }
   ],
   "source": [
    "lpv_log_z = denorm_output(log_y, norm)\n",
    "\n",
    "plt.subplot(1,2,1)\n",
    "plt.plot(lpv_log_z[0,:])\n",
    "plt.subplot(1,2,2)\n",
    "plt.plot(lpv_log_z[0,:-1] - log_z[0,1:])"
   ]
  },
  {
   "cell_type": "code",
   "execution_count": 18,
   "metadata": {},
   "outputs": [],
   "source": [
    "# Velocity LPV embedding\n",
    "lpv_A, lpv_B, lpv_C = velocity_lpv_embedding(model)\n",
    "\n",
    "A = np.zeros((nx,nx))\n",
    "B = np.zeros((nx,nu))\n",
    "C = np.zeros((ny,nx))\n",
    "\n",
    "dx0 = np.zeros((nx,1))\n",
    "u1 = np.zeros((nu,1))\n",
    "u0 = np.zeros((nu,1))\n",
    "du0 = np.zeros((nu,1))\n",
    "y0 = np.zeros((ny,1))\n",
    "y_1 = np.zeros((ny,1))\n",
    "dy0 = np.zeros((ny,1))\n",
    "\n",
    "vel_log_y = np.zeros((ny,sim_steps))\n",
    "\n",
    "for i in range(sim_steps):\n",
    "\n",
    "    A[:,:] = lpv_A(x0,dx0,u0,du0)\n",
    "    B[:,:] = lpv_B(x0,dx0,u0,du0)\n",
    "    C[:,:] = lpv_C(x0,dx0,u0,du0)\n",
    "\n",
    "    dx0[:,:] = A @ dx0 + B @ du0\n",
    "\n",
    "    dy0[:,:] = C @ dx0\n",
    "\n",
    "    y0[:,:] = dy0 + y_1\n",
    "    y_1[:,:] = y0#log_y[:,i]\n",
    "\n",
    "    u1[:,0] = u[:,i]\n",
    "    du0[:,:] = u1 - u0\n",
    "    u0[:,:] = u1\n",
    "\n",
    "    vel_log_y[:,i] = y0[:,0]"
   ]
  },
  {
   "cell_type": "code",
   "execution_count": 19,
   "metadata": {},
   "outputs": [
    {
     "data": {
      "text/plain": [
       "[<matplotlib.lines.Line2D at 0x195ccfaba90>]"
      ]
     },
     "execution_count": 19,
     "metadata": {},
     "output_type": "execute_result"
    },
    {
     "data": {
      "image/png": "[encoded data removed]",
      "text/plain": [
       "<Figure size 432x288 with 2 Axes>"
      ]
     },
     "metadata": {
      "needs_background": "light"
     },
     "output_type": "display_data"
    }
   ],
   "source": [
    "vel_log_z = denorm_output(log_y, norm)\n",
    "\n",
    "\n",
    "plt.subplot(1,2,1)\n",
    "plt.plot(vel_log_z[0,:])\n",
    "plt.subplot(1,2,2)\n",
    "plt.plot(vel_log_z[0,:-1] - log_z[0,1:])"
   ]
  },
  {
   "cell_type": "code",
   "execution_count": 20,
   "metadata": {},
   "outputs": [
    {
     "data": {
      "text/plain": [
       "2.5021571151719444"
      ]
     },
     "execution_count": 20,
     "metadata": {},
     "output_type": "execute_result"
    },
    {
     "data": {
      "image/png": "[encoded data removed]",
      "text/plain": [
       "<Figure size 432x288 with 1 Axes>"
      ]
     },
     "metadata": {
      "needs_background": "light"
     },
     "output_type": "display_data"
    }
   ],
   "source": [
    "plt.plot(lpv_log_z[0,:] - vel_log_z[0,:])\n",
    "np.sum(np.abs(log_z[0,:] - vel_log_z[0,:]))"
   ]
  },
  {
   "cell_type": "code",
   "execution_count": null,
   "metadata": {},
   "outputs": [],
   "source": []
  }
 ],
 "metadata": {
  "kernelspec": {
   "display_name": "Python 3",
   "language": "python",
   "name": "python3"
  },
  "language_info": {
   "codemirror_mode": {
    "name": "ipython",
    "version": 3
   },
   "file_extension": ".py",
   "mimetype": "text/x-python",
   "name": "python",
   "nbconvert_exporter": "python",
   "pygments_lexer": "ipython3",
   "version": "3.9.0"
  },
  "orig_nbformat": 4,
  "vscode": {
   "interpreter": {
    "hash": "4adf2e6253b261bd4dae3284651a7270092766d2a4e11b51cb3c91db9fd89146"
   }
  }
 },
 "nbformat": 4,
 "nbformat_minor": 2
}
