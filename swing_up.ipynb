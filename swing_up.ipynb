{
 "cells": [
  {
   "cell_type": "code",
   "execution_count": 2,
   "metadata": {},
   "outputs": [],
   "source": [
    "import deepSI\n",
    "from NonlinearController.systems import SinCosUnbalancedDisc, UnbalancedDisc, ReversedUnbalancedDisc, ReversedSinCosUnbalancedDisc\n",
    "import numpy as np\n",
    "import matplotlib.pyplot as plt\n",
    "from scipy.signal import lfilter\n",
    "import random\n",
    "from scipy.signal import cont2discrete, lti, dlti, place_poles\n",
    "import torch"
   ]
  },
  {
   "cell_type": "code",
   "execution_count": 2,
   "metadata": {},
   "outputs": [],
   "source": [
    "def randomLevelReference(Nsim, nt_range, level_range):\n",
    "    x_reference_list = np.array([])\n",
    "    Nsim_remaining = Nsim\n",
    "    while True:\n",
    "        Nsim_steps = random.randint(nt_range[0],nt_range[1])\n",
    "        Nsim_remaining = Nsim_remaining - Nsim_steps\n",
    "        x_reference_list = np.hstack((x_reference_list, np.ones(Nsim_steps)*random.uniform(level_range[0],level_range[1])))\n",
    "\n",
    "        if Nsim_remaining <= 0:\n",
    "            x_reference_list = x_reference_list[:Nsim]\n",
    "            break\n",
    "    return x_reference_list\n",
    "\n",
    "class Controller_pid(object):\n",
    "    def __init__(self,kP,kI=0,kD=0):\n",
    "        super(Controller_pid,self).__init__()\n",
    "        self.kD = kD\n",
    "        self.kP = kP\n",
    "        self.kI = kI\n",
    "        self.reset()\n",
    "\n",
    "    def reset(self):\n",
    "        self.t = 0\n",
    "        self.E_old = None\n",
    "        self.E_I = None\n",
    "\n",
    "    def __call__(self,y,ref):\n",
    "        E = ((y-ref)+np.pi)%(2*np.pi) - np.pi\n",
    "        if self.E_old is None:\n",
    "            self.E_old = E\n",
    "            self.E_I = E\n",
    "        else:\n",
    "            self.E_I = self.E_I + E\n",
    "        dE = E-self.E_old\n",
    "        u = -self.kP*E-self.kD*dE-self.kI*self.E_I\n",
    "        self.E_old = E\n",
    "        self.t += 1\n",
    "        return u"
   ]
  },
  {
   "cell_type": "code",
   "execution_count": null,
   "metadata": {},
   "outputs": [],
   "source": [
    "# declare system and run simulation using input\n",
    "dt = 0.1; sigma_n = [0.015]\n",
    "# r_system = ReversedSinCosUnbalancedDisc(dt=dt, sigma_n=sigma_n)\n",
    "r_system = ReversedUnbalancedDisc(dt=dt, sigma_n=sigma_n)\n",
    "r_system.reset_state()\n",
    "# system = SinCosUnbalancedDisc(dt=dt, sigma_n=sigma_n)\n",
    "system = UnbalancedDisc(dt=dt, sigma_n=sigma_n)\n",
    "system.reset_state()\n",
    "\n",
    "train_datasets = deepSI.System_data_list()\n",
    "\n",
    "Nu = 30; a = 12; begin_u = 10\n",
    "\n",
    "for i in range(800):\n",
    "    u = deepSI.deepSI.exp_design.multisine(Nu, pmax=Nu//2-1, n_crest_factor_optim=20)\n",
    "    u = u/(max(u)-min(u))*a\n",
    "    u = np.hstack((np.zeros(begin_u),u))\n",
    "    data = system.apply_experiment(deepSI.System_data(u=u))\n",
    "    train_datasets.append(data)\n",
    "    data = r_system.apply_experiment(deepSI.System_data(u=u))\n",
    "    train_datasets.append(data)"
   ]
  },
  {
   "cell_type": "code",
   "execution_count": null,
   "metadata": {},
   "outputs": [],
   "source": [
    "val_datasets = deepSI.System_data_list()\n",
    "\n",
    "for i in range(100):\n",
    "    u = deepSI.deepSI.exp_design.multisine(Nu, pmax=Nu//2-1, n_crest_factor_optim=20)\n",
    "    u = u/(max(u)-min(u))*a\n",
    "    data = system.apply_experiment(deepSI.System_data(u=u))\n",
    "    val_datasets.append(data)\n",
    "    data = r_system.apply_experiment(deepSI.System_data(u=u))\n",
    "    val_datasets.append(data)"
   ]
  },
  {
   "cell_type": "code",
   "execution_count": null,
   "metadata": {},
   "outputs": [],
   "source": [
    "## -----------------------  Start Energy Controller ------------------------------\n",
    "# declare system and run simulation using input\n",
    "dt = 0.05; sigma_n=[0.014]; system = UnbalancedDisc(dt=dt,sigma_n=sigma_n)\n",
    "system.reset_state()\n",
    "\n",
    "# generate reference signal to be tracked\n",
    "N_samples = int(10000/dt)\n",
    "# r = np.ones(N_samples)*np.pi\n",
    "r = randomLevelReference(N_samples, [int(1./dt),int(1.5/dt)], [-np.pi,np.pi])\n",
    "# generate disturbance applied to controller output before system input\n",
    "u_sin = deepSI.deepSI.exp_design.multisine(N_samples, pmin=N_samples//16, pmax=N_samples//2-1, n_crest_factor_optim=10)*2.5\n",
    "\n",
    "# determince controller for linearized system and chosen poles\n",
    "J = 0.000244210523960356\n",
    "M = 0.0761844495320390\n",
    "g = 9.80155078791343\n",
    "l = 0.0410772235841364\n",
    "Km = 10.5081817407479\n",
    "tau = 0.397973147009910\n",
    "\n",
    "theta_eq = r[0]; u_eq = M*g*l*tau*np.sin(theta_eq)/(Km*J)\n",
    "A = np.array([[0,1],[-M*g*l/J*np.cos(theta_eq),-1/tau]])\n",
    "B = np.array([[0],[Km/tau]])\n",
    "C = np.eye(2)\n",
    "D = np.array([[0],[0]])\n",
    "l_system = lti(A, B, C, D)\n",
    "d_system = cont2discrete((A, B, C, D), dt)\n",
    "# poles = np.exp(np.array([-1, -2])*dt)\n",
    "poles = np.array([1.4, 1.3])\n",
    "Bunched = place_poles(d_system[0], d_system[1], poles)\n",
    "K = Bunched.gain_matrix\n",
    "\n",
    "N_samples"
   ]
  },
  {
   "cell_type": "code",
   "execution_count": null,
   "metadata": {},
   "outputs": [],
   "source": [
    "log_y = np.zeros((1,N_samples))\n",
    "log_o = np.zeros((1,N_samples))\n",
    "log_u = np.zeros((1,N_samples))\n",
    "log_e = np.zeros((1,N_samples))\n",
    "u = 0 \n",
    "\n",
    "u_max = 6; u_min = -u_max\n",
    "Ke = 300\n",
    "pid_bound = 0.2\n",
    "r_prev = r[0]\n",
    "\n",
    "for i in range(N_samples):\n",
    "    omega, theta = system.h(system.x, u)\n",
    "    \n",
    "    theta_mod = (theta+np.pi)%(2*np.pi) - np.pi\n",
    "    Eref = M*g*l*(1-np.cos(r[i]))\n",
    "    Ek = 1/2 * J * np.square(omega)\n",
    "    Ep = M*g*l*(1-np.cos(theta))\n",
    "    Etot = Ep + Ek \n",
    "    Ediff = Eref - Etot\n",
    "    u_e = np.clip(Ke*Ediff*np.sign(theta_eq-theta_mod+0.00001), u_min, u_max)\n",
    "    # u_e = np.clip(Ke*Ediff*(omega+0.0001), u_min, u_max)\n",
    "\n",
    "    if r_prev != r[i]:\n",
    "        theta_eq = r[i]; u_eq = M*g*l*tau*np.sin(theta_eq)/(Km*J)\n",
    "        A = np.array([[0,1],[-M*g*l/J*np.cos(theta_eq),-1/tau]])\n",
    "        B = np.array([[0],[Km/tau]])\n",
    "        C = np.eye(2)\n",
    "        D = np.array([[0],[0]])\n",
    "        d_system = cont2discrete((A, B, C, D), dt)\n",
    "        Bunched = place_poles(d_system[0], d_system[1], poles)\n",
    "        K = Bunched.gain_matrix\n",
    "\n",
    "        r_prev = r[i]\n",
    "\n",
    "    u_k = np.clip((K@np.array([[theta_mod-r[i]],[omega]]))[0,0] + u_eq, u_min, u_max)\n",
    "    \n",
    "    theta_distance = np.abs(((theta_eq - theta_mod)+np.pi)%(2*np.pi) - np.pi)\n",
    "    if theta_distance < pid_bound:\n",
    "        u = u_k\n",
    "        # print(str(i) + \": \" + str(u_k) + \", \" + str(omega))\n",
    "    else:\n",
    "        u = u_e\n",
    "\n",
    "    u = u + u_sin[i]# + np.random.uniform(-1,1)\n",
    "\n",
    "    system.x = system.f(system.x, u)\n",
    "\n",
    "    log_y[:,i] = theta_mod\n",
    "    log_o[:,i] = omega\n",
    "    log_u[:,i] = u\n",
    "    log_e[:,i] = Etot"
   ]
  },
  {
   "cell_type": "code",
   "execution_count": null,
   "metadata": {},
   "outputs": [],
   "source": [
    "fig1 = plt.figure(figsize=(18,5))\n",
    "times = np.arange(log_y.size)*dt\n",
    "plt_start = 8700; plt_len = 1000; plt_end = plt_start + plt_len\n",
    "\n",
    "plt.subplot(1,2,1)\n",
    "plt.plot(times[plt_start:plt_end],log_y[0,plt_start:plt_end],label='output')\n",
    "plt.plot(times[plt_start:plt_end],r[plt_start:plt_end], 'r-.',label='reference')\n",
    "plt.xlabel(\"time [s]\")\n",
    "plt.ylabel(\"angle [rad]\")\n",
    "plt.legend()\n",
    "\n",
    "plt.subplot(1,2,2)\n",
    "plt.plot(times[plt_start:plt_end],log_u[0,plt_start:plt_end],label='input')\n",
    "plt.xlabel(\"time [s]\")\n",
    "plt.ylabel(\"voltage [V]\")\n",
    "plt.legend()\n",
    "\n",
    "# plt.subplot(1,3,3)\n",
    "# plt.plot(times[plt_start:plt_end],log_e[0,plt_start:plt_end] ,label='total energy')\n",
    "# plt.plot(times[plt_start:plt_end],np.ones(log_e.size)[plt_start:plt_end]*Eref ,label='reference')\n",
    "# plt.xlabel(\"time [s]\")\n",
    "# plt.ylabel(\"energy [J]\")\n",
    "# plt.legend()\n"
   ]
  },
  {
   "cell_type": "code",
   "execution_count": null,
   "metadata": {},
   "outputs": [],
   "source": [
    "fig1 = plt.figure(figsize=(14,5))\n",
    "\n",
    "plt.subplot(1,2,1)\n",
    "plt.hist(log_y[0,:],55);\n",
    "plt.xlabel(\"angle [rad]\");\n",
    "plt.ylabel(\"Counts\")\n",
    "\n",
    "plt.subplot(1,2,2)\n",
    "plt.hist(log_u[0,:],55);\n",
    "plt.xlabel(\"voltage [V]\")\n",
    "plt.ylabel(\"Counts\");"
   ]
  },
  {
   "cell_type": "code",
   "execution_count": null,
   "metadata": {},
   "outputs": [],
   "source": [
    "fig1 = plt.figure(figsize=(14,5))\n",
    "\n",
    "plt.subplot(1,2,1)\n",
    "plt.plot(np.fft.fftfreq(N_samples, d=dt), np.log(abs(np.fft.fft(log_y[0,:]))/1))\n",
    "plt.xlabel(\"Frquency [Hz]\")\n",
    "plt.ylabel(\"Magnitude dB\")\n",
    "plt.title(\"FFT angle\")\n",
    "\n",
    "plt.subplot(1,2,2)\n",
    "plt.plot(np.fft.fftfreq(N_samples, d=dt), np.log(abs(np.fft.fft(log_u[0,:]))/1))\n",
    "plt.xlabel(\"Frquency [Hz]\")\n",
    "plt.ylabel(\"Magnitude dB\")\n",
    "plt.title(\"FFT input\");"
   ]
  },
  {
   "cell_type": "code",
   "execution_count": null,
   "metadata": {},
   "outputs": [],
   "source": [
    "# np.save(\"NonlinearController/data/Energy_u.npy\", log_u[0,:])\n",
    "# np.save(\"NonlinearController/data/Energy_y.npy\", log_y[0,:])"
   ]
  },
  {
   "cell_type": "code",
   "execution_count": null,
   "metadata": {},
   "outputs": [],
   "source": [
    "u = np.load(\"NonlinearController/data/Energy_u.npy\")\n",
    "y = np.load(\"NonlinearController/data/Energy_y.npy\")\n",
    "# u = log_u[0,:]\n",
    "# y = log_y[0,:]\n",
    "y = (y[:]+2*np.pi)%(2*np.pi)-np.pi\n",
    "y = np.vstack((np.sin(y),np.cos(y))).T\n",
    "data = deepSI.System_data(u=u, y=y)\n",
    "\n",
    "sys = deepSI.load_system('NonlinearController/trained_models/sincos/energy')\n",
    "test_ss_enc = sys.apply_experiment(data)"
   ]
  },
  {
   "cell_type": "code",
   "execution_count": null,
   "metadata": {},
   "outputs": [],
   "source": [
    "print(f'NRMS simulation SS linear  {test_ss_enc.NRMS(data):.2%}')\n",
    "\n",
    "fig1 = plt.figure(figsize=(14,5))\n",
    "\n",
    "plt.subplot(1,2,1)\n",
    "plt.plot(test_ss_enc.y[:,0], label=\"System\")\n",
    "plt.plot(test_ss_enc.y[:,0] - data.y[:,0], label='Error')\n",
    "\n",
    "plt.subplot(1,2,2)\n",
    "plt.plot(test_ss_enc.y[:,1], label=\"System\")\n",
    "plt.plot(test_ss_enc.y[:,1] - data.y[:,1] + 1, label='Error')\n",
    "# plt.ylim((-1,1.2))\n",
    "\n",
    "plt.show()"
   ]
  },
  {
   "cell_type": "code",
   "execution_count": 31,
   "metadata": {},
   "outputs": [],
   "source": [
    "# Nu = 50\n",
    "# a = 3; flips = 500\n",
    "# u = np.random.normal(0,1.0,Nu)\n",
    "# for i in range(flips-1):\n",
    "#     u = np.hstack((u, np.random.normal(a,.7,Nu)))\n",
    "#     a = -1*a\n",
    "#     u = np.hstack((u, np.random.normal(0,.7,Nu)))\n",
    "\n",
    "Nu = 10000\n",
    "a = 7\n",
    "u = deepSI.deepSI.exp_design.multisine(Nu, pmax=Nu//2-1, n_crest_factor_optim=20)*a/2\n",
    "u = np.clip(u, -a, a)\n",
    "\n",
    "# Nu = 400000\n",
    "# a = 2.6\n",
    "# u = deepSI.deepSI.exp_design.multisine(Nu, pmax=Nu//2-1, n_crest_factor_optim=5)*0.8\n",
    "# flips = 1000\n",
    "# for i in range(flips):\n",
    "#     u[i*(Nu//flips):(i+1)*(Nu//flips)] = u[i*(Nu//flips):(i+1)*(Nu//flips)] + a\n",
    "#     a = -1*a"
   ]
  },
  {
   "cell_type": "code",
   "execution_count": 32,
   "metadata": {},
   "outputs": [],
   "source": [
    "from NonlinearController.systems import VelocityUnbalancedDisc\n",
    "dt = 0.1; sigma_n = [0.014] # was [0.014] in paper\n",
    "setup = VelocityUnbalancedDisc(dt=dt, sigma_n=sigma_n)\n",
    "data = setup.apply_experiment(deepSI.System_data(u=u))"
   ]
  },
  {
   "cell_type": "code",
   "execution_count": 33,
   "metadata": {},
   "outputs": [
    {
     "data": {
      "image/png": "[encoded data removed]",
      "text/plain": [
       "<Figure size 1296x288 with 3 Axes>"
      ]
     },
     "metadata": {
      "needs_background": "light"
     },
     "output_type": "display_data"
    }
   ],
   "source": [
    "fig = plt.figure(figsize=(18,4))\n",
    "plt.subplot(1,3,1)\n",
    "plt.hist(data.y[:,0], 35)\n",
    "plt.subplot(1,3,2)\n",
    "plt.hist(data.y[:,1], 35)\n",
    "plt.subplot(1,3,3)\n",
    "plt.hist(data.y[:,2], 35)\n",
    "plt.show()"
   ]
  },
  {
   "cell_type": "code",
   "execution_count": null,
   "metadata": {},
   "outputs": [],
   "source": [
    "plt.plot(np.fft.fftfreq(Nu, d=dt), np.fft.fft(u).real[:])"
   ]
  },
  {
   "cell_type": "code",
   "execution_count": null,
   "metadata": {},
   "outputs": [],
   "source": [
    "theta = np.arctan2(data.y[:,0], data.y[:,1])\n",
    "plt.plot(np.fft.fftfreq(Nu, d=dt), np.fft.fft(theta).real[:])"
   ]
  },
  {
   "cell_type": "code",
   "execution_count": null,
   "metadata": {},
   "outputs": [],
   "source": [
    "fig1 = plt.figure(figsize=(10,5))\n",
    "plt_len = u.size//200\n",
    "plt.subplot(1,3,1)\n",
    "plt.plot(data.u[:plt_len])\n",
    "plt.subplot(1,3,2)\n",
    "plt.plot(data.y[:plt_len,0])\n",
    "plt.subplot(1,3,3)\n",
    "plt.plot(data.y[:plt_len,1])\n",
    "plt.plot(np.ones(plt_len), 'r-.')\n",
    "plt.plot(-1*np.ones(plt_len), 'r-.')\n",
    "plt.show()"
   ]
  },
  {
   "cell_type": "code",
   "execution_count": null,
   "metadata": {},
   "outputs": [],
   "source": [
    "from torch import nn\n",
    "# change output from linear layer to ny=2 (from sin cos output), to sin and cos applied to linear layer to ny=1\n",
    "    #!!! There is probably an issue with the input of the sin and cos being normalized\n",
    "class sincos_output_net(nn.Module):\n",
    "    def __init__(self, nx, ny, nu=-1, n_nodes_per_layer=64, n_hidden_layers=2, activation=nn.Tanh):\n",
    "        super(sincos_output_net, self).__init__()\n",
    "        from deepSI.utils import simple_res_net\n",
    "        self.ny = tuple() if ny is None else ((ny,) if isinstance(ny,int) else ny)\n",
    "        self.feedthrough = nu!=-1\n",
    "        if self.feedthrough:\n",
    "            self.nu = tuple() if nu is None else ((nu,) if isinstance(nu,int) else nu)\n",
    "            net_in = nx + np.prod(self.nu, dtype=int)\n",
    "        else:\n",
    "            net_in = nx\n",
    "        self.net = simple_res_net(n_in=net_in, n_out=np.prod((1,),dtype=int), n_nodes_per_layer=n_nodes_per_layer, \\\n",
    "            n_hidden_layers=n_hidden_layers, activation=activation)\n",
    "\n",
    "    def forward(self, x, u=None):\n",
    "        xu = x\n",
    "        xu = self.net(xu).view(*((x.shape[0],)+(1,)))\n",
    "        y = torch.cat([torch.sin(xu), torch.cos(xu)], dim=1)\n",
    "        return y\n",
    "    \n",
    "# change input from sin cos to arctan2 of sin cos.\n",
    "    #!!! There is probably a problem with the sin and cos being normalized at the arctan2\n",
    "class arctan2_encoder_net(nn.Module):\n",
    "    def __init__(self, nb, nu, na, ny, nx, n_nodes_per_layer=64, n_hidden_layers=2, activation=nn.Tanh):\n",
    "        super(arctan2_encoder_net, self).__init__()\n",
    "        from deepSI.utils import simple_res_net\n",
    "        self.nu = tuple() if nu is None else ((nu,) if isinstance(nu,int) else nu)\n",
    "        self.ny = tuple() if ny is None else ((ny,) if isinstance(ny,int) else ny)\n",
    "        self.net = simple_res_net(n_in=nb*np.prod(self.nu,dtype=int) + na*np.prod((1,),dtype=int), \\\n",
    "            n_out=nx, n_nodes_per_layer=n_nodes_per_layer, n_hidden_layers=n_hidden_layers, activation=activation)\n",
    "\n",
    "    def forward(self, upast, ypast):\n",
    "        ypast = torch.mul(torch.atan2(ypast[:,:,0],ypast[:,:,1]),0.5)\n",
    "        net_in = torch.cat([upast.view(upast.shape[0],-1),ypast.view(ypast.shape[0],-1)],axis=1)\n",
    "        return self.net(net_in)\n",
    "\n",
    "class SinCos_encoder(deepSI.fit_systems.SS_encoder_general):\n",
    "    def __init__(self, nx=10, na=10, nb=10, na_right=0, nb_right=0, e_net_kwargs={}, f_net_kwargs={}, h_net_kwargs={}):\n",
    "        super(SinCos_encoder, self).__init__(nx=nx, na=na, nb=nb, na_right=na_right, nb_right=nb_right, e_net_kwargs=e_net_kwargs, f_net_kwargs=f_net_kwargs, h_net_kwargs=h_net_kwargs)\n",
    "        # self.h_net = sincos_output_net\n",
    "        # self.e_net = arctan2_encoder_net\n",
    "\n",
    "    def init_nets(self, nu, ny): # a bit weird\n",
    "        na_right = self.na_right if hasattr(self,'na_right') else 0\n",
    "        nb_right = self.nb_right if hasattr(self,'nb_right') else 0\n",
    "        self.encoder = self.e_net(nb=(self.nb+nb_right), nu=nu, na=(self.na+na_right), ny=ny, nx=self.nx, **self.e_net_kwargs)\n",
    "        self.fn =      self.f_net(nx=self.nx, nu=nu,                                **self.f_net_kwargs)\n",
    "        if self.feedthrough:\n",
    "            self.hn =      self.h_net(nx=self.nx, ny=ny, nu=nu,                     **self.h_net_kwargs) \n",
    "        else:\n",
    "            self.hn =      self.h_net(nx=self.nx, ny=ny,                            **self.h_net_kwargs)\n",
    "\n",
    "    def init_model(self, sys_data=None, nu=-1, ny=-1, device='cpu', auto_fit_norm=True, optimizer_kwargs={}, parameters_optimizer_kwargs={}, scheduler_kwargs={}):\n",
    "        '''This function set the nu and ny, inits the network, moves parameters to device, initilizes optimizer and initilizes logging parameters'''\n",
    "        if sys_data==None:\n",
    "            assert nu!=-1 and ny!=-1, 'either sys_data or (nu and ny) should be provided'\n",
    "            self.nu, self.ny = nu, ny\n",
    "        else:\n",
    "            self.nu, self.ny = sys_data.nu, sys_data.ny\n",
    "            # if auto_fit_norm:\n",
    "            #     self.norm.fit(sys_data)\n",
    "            self.norm.ustd = 4\n",
    "            self.norm.y0 = np.array([0.0,0.0])\n",
    "            self.norm.ystd = np.array([1.0,1.0])\n",
    "            print(\"1 ystd: \" + str(self.norm.ystd) + \", y0: \" + str(self.norm.y0))\n",
    "            print(\"1 ustd: \" + str(self.norm.ustd) + \", u0: \" + str(self.norm.u0))\n",
    "        self.init_nets(self.nu, self.ny)\n",
    "        self.to_device(device=device)\n",
    "        parameters_and_optim = [{**item,**parameters_optimizer_kwargs.get(name,{})} for name,item in self.parameters_with_names.items()]\n",
    "        self.optimizer = self.init_optimizer(parameters_and_optim, **optimizer_kwargs)\n",
    "        self.scheduler = self.init_scheduler(**scheduler_kwargs)\n",
    "        self.bestfit = float('inf')\n",
    "        self.Loss_val, self.Loss_train, self.batch_id, self.time, self.epoch_id = np.array([]), np.array([]), np.array([]), np.array([]), np.array([])\n",
    "        self.init_model_done = True\n"
   ]
  },
  {
   "cell_type": "code",
   "execution_count": null,
   "metadata": {},
   "outputs": [],
   "source": [
    "sys = deepSI.load_system('NonlinearController/trained_models/sincos/sincos_perturbed_nmpc_dt0_1_e50_b500_nf15_sn0_014')"
   ]
  },
  {
   "cell_type": "code",
   "execution_count": null,
   "metadata": {},
   "outputs": [],
   "source": [
    "import NonlinearController.systems as systems\n",
    "\n",
    "# u = np.load(\"NonlinearController/data/sin_perturbed_NMPC_w.npy\")[0,:]\n",
    "# y = np.load(\"NonlinearController/data/sin_perturbed_NMPC_q.npy\").T\n",
    "# data = deepSI.System_data(u=u, y=y)\n",
    "\n",
    "# u = np.load(\"NonlinearController/data/Energy_u.npy\")\n",
    "# y = np.load(\"NonlinearController/data/Energy_y.npy\")\n",
    "# y = (y[:]+2*np.pi)%(2*np.pi)-np.pi\n",
    "# y = np.vstack((np.sin(y),np.cos(y))).T\n",
    "# data = deepSI.System_data(u=u, y=y)\n",
    "\n",
    "Nu = 100000; a = 4.0\n",
    "u = deepSI.deepSI.exp_design.multisine(Nu, pmax=Nu//2-1, n_crest_factor_optim=10)*a/2\n",
    "u = np.clip(u, -a, a)\n",
    "sigma_n = [0.014]; dt = 0.1\n",
    "setup = systems.ReversedSinCosUnbalancedDisc(dt=dt, sigma_n=sigma_n)\n",
    "data = setup.apply_experiment(deepSI.System_data(u=u))"
   ]
  },
  {
   "cell_type": "code",
   "execution_count": null,
   "metadata": {},
   "outputs": [],
   "source": [
    "# train, test = data.train_test_split(split_fraction=0.2)\n",
    "# train, val  = train.train_test_split(split_fraction=0.25)"
   ]
  },
  {
   "cell_type": "code",
   "execution_count": null,
   "metadata": {},
   "outputs": [],
   "source": [
    "test_ss_enc = sys.apply_experiment(data)"
   ]
  },
  {
   "cell_type": "code",
   "execution_count": null,
   "metadata": {},
   "outputs": [],
   "source": [
    "print(f'NRMS simulation SS linear  {test_ss_enc.NRMS(data):.2%}')\n",
    "\n",
    "fig1 = plt.figure(figsize=(14,5))\n",
    "\n",
    "plt.subplot(1,2,1)\n",
    "plt.plot(test_ss_enc.y[:,0], label=\"System\")\n",
    "plt.plot(test_ss_enc.y[:,0] - data.y[:,0], label='Error')\n",
    "\n",
    "plt.subplot(1,2,2)\n",
    "plt.plot(test_ss_enc.y[:,1], label=\"System\")\n",
    "plt.plot(test_ss_enc.y[:,1] - data.y[:,1] + 1, label='Error')\n",
    "# plt.ylim((-1,1.2))\n",
    "\n",
    "plt.show()"
   ]
  },
  {
   "cell_type": "code",
   "execution_count": null,
   "metadata": {},
   "outputs": [],
   "source": [
    "nsteperror = sys.n_step_error(data,nf=25)\n",
    "plt.plot(nsteperror)"
   ]
  },
  {
   "cell_type": "code",
   "execution_count": null,
   "metadata": {},
   "outputs": [],
   "source": []
  }
 ],
 "metadata": {
  "kernelspec": {
   "display_name": "Python 3",
   "language": "python",
   "name": "python3"
  },
  "language_info": {
   "codemirror_mode": {
    "name": "ipython",
    "version": 3
   },
   "file_extension": ".py",
   "mimetype": "text/x-python",
   "name": "python",
   "nbconvert_exporter": "python",
   "pygments_lexer": "ipython3",
   "version": "3.9.0"
  },
  "orig_nbformat": 4,
  "vscode": {
   "interpreter": {
    "hash": "4adf2e6253b261bd4dae3284651a7270092766d2a4e11b51cb3c91db9fd89146"
   }
  }
 },
 "nbformat": 4,
 "nbformat_minor": 2
}
